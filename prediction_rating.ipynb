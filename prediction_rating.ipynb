{
 "cells": [
  {
   "cell_type": "code",
   "execution_count": 7,
   "metadata": {},
   "outputs": [],
   "source": [
    "import sys\n",
    "import pandas as pd\n",
    "import cv2\n",
    "import numpy as np\n",
    "import pickle\n",
    "import os\n",
    "os.environ['PF_CPP_MIN_LOG_LEVEL']='2'"
   ]
  },
  {
   "cell_type": "code",
   "execution_count": 20,
   "metadata": {},
   "outputs": [],
   "source": [
    "path=sys.argv[1] #PATH OF THE UPLOADED CSV FILE\n",
    "path1=sys.argv[2] #path of the file to be written\n",
    "\n",
    "#df = pd.read_csv('cleaned_hospital_data_test.csv')\n",
    "df = pd.read_csv(sys.argv[1])\n",
    "df.dropna(inplace=True)\n",
    "# load the model from disk\n",
    "loaded_model = pickle.load(open(sys.argv[2], 'rb'))\n",
    "hos_names = np.array(df['Hospital Name'])"
   ]
  },
  {
   "cell_type": "code",
   "execution_count": 21,
   "metadata": {},
   "outputs": [],
   "source": [
    "df['Hospital Type'] = df['Hospital Type'].astype('category')\n",
    "df['Hospital Type'] = df['Hospital Type'].cat.codes\n",
    "for i in range(0,df.shape[1]):\n",
    "    if df.iloc[:,i].dtype == object:\n",
    "        df.iloc[:,i] = df.iloc[:,i].astype('category')\n",
    "        df.iloc[:,i]=df.iloc[:,i].cat.codes\n",
    "    elif df.iloc[:,i].dtype == bool:\n",
    "        df.iloc[:,i] = df.iloc[:,i]*1"
   ]
  },
  {
   "cell_type": "code",
   "execution_count": 23,
   "metadata": {},
   "outputs": [],
   "source": [
    "df.drop(['Hospital Name'],inplace=True,axis=1)\n",
    "res = loaded_model.predict(df)\n",
    "df_new = pd.DataFrame()\n",
    "df_new['Hospital Name']=hos_names\n",
    "df_new['Rating'] = res"
   ]
  },
  {
   "cell_type": "code",
   "execution_count": null,
   "metadata": {},
   "outputs": [],
   "source": [
    "df_new.to_csv(sys.argv[3],index=False)"
   ]
  }
 ],
 "metadata": {
  "kernelspec": {
   "display_name": "Python 3",
   "language": "python",
   "name": "python3"
  },
  "language_info": {
   "codemirror_mode": {
    "name": "ipython",
    "version": 3
   },
   "file_extension": ".py",
   "mimetype": "text/x-python",
   "name": "python",
   "nbconvert_exporter": "python",
   "pygments_lexer": "ipython3",
   "version": "3.5.0"
  }
 },
 "nbformat": 4,
 "nbformat_minor": 2
}
